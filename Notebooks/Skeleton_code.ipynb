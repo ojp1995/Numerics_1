{
 "cells": [
  {
   "cell_type": "markdown",
   "metadata": {},
   "source": [
    "Linear advection"
   ]
  },
  {
   "cell_type": "code",
   "execution_count": 2,
   "metadata": {},
   "outputs": [],
   "source": [
    "# Numerical schemes for simulating linear advection for outer code\n",
    "# linearAdvect.py \n",
    "\n",
    "# If you are using Python 2.7 rather than Python 3, import various\n",
    "# functions from Python 3 such as to use real number division\n",
    "# rather than integer division. ie 3/2  = 1.5  rather than 3/2 = 1\n",
    "#from __future__ import absolute_import, division, print_function\n",
    "\n",
    "# The numpy package for numerical functions and pi\n",
    "import numpy as np\n",
    "\n",
    "def FTCS(phiOld, c, nt):\n",
    "    \"Linear advection of profile in phiOld using FTCS, Courant number c\"\n",
    "    \"for nt time-steps\"\n",
    "    \n",
    "    nx = len(phiOld)\n",
    "\n",
    "    # new time-step array for phi\n",
    "    phi = phiOld.copy()\n",
    "\n",
    "    # FTCS for each time-step\n",
    "    for it in range(nt):\n",
    "        # Loop through all space using remainder after division (%)\n",
    "        # to cope with periodic boundary conditions\n",
    "        for j in range(nx):\n",
    "            phi[j] = phiOld[j] - 0.5*c*\\\n",
    "                     (phiOld[(j+1)%nx] - phiOld[(j-1)%nx])\n",
    "        \n",
    "        # update arrays for next time-step\n",
    "        phiOld = phi.copy()\n",
    "\n",
    "    return phi"
   ]
  },
  {
   "cell_type": "markdown",
   "metadata": {},
   "source": [
    "diagnostics"
   ]
  },
  {
   "cell_type": "code",
   "execution_count": 3,
   "metadata": {},
   "outputs": [],
   "source": [
    "# Various function for plotting results and for calculating error measures\n",
    "\n",
    "\n",
    "# If you are using Python 2.7 rather than Python 3, import various\n",
    "# functions from Python 3 such as to use real number division\n",
    "# rather than integer division. ie 3/2  = 1.5  rather than 3/2 = 1\n",
    "#from __future__ import absolute_import, division, print_function\n",
    "\n",
    "import numpy as np\n",
    "\n",
    "\n",
    "def l2ErrorNorm(phi, phiExact):\n",
    "    \"Calculates the l2 error norm (RMS error) of phi in comparison to\"\n",
    "    \"phiExact\"\n",
    "    \n",
    "    # calculate the error and the RMS error norm\n",
    "    phiError = phi - phiExact\n",
    "    l2 = np.sqrt(sum(phiError**2)/sum(phiExact**2))\n",
    "\n",
    "    return l2\n",
    "\n",
    "\n",
    "def lInfErrorNorm(phi, phiExact):\n",
    "    \"Calculates the linf error norm (maximum normalised error) in comparison\"\n",
    "    \"to phiExact\"\n",
    "    phiError = phi - phiExact\n",
    "    return np.max(np.abs(phiError))/np.max(np.abs(phiExact))\n"
   ]
  },
  {
   "cell_type": "markdown",
   "metadata": {},
   "source": [
    "Initial conditions"
   ]
  },
  {
   "cell_type": "code",
   "execution_count": 4,
   "metadata": {},
   "outputs": [],
   "source": [
    "# Various different initial conditions for linear advection\n",
    "\n",
    "# If you are using Python 2.7 rather than Python 3, import various\n",
    "# functions from Python 3 such as to use real number division\n",
    "# rather than integer division. ie 3/2  = 1.5  rather than 3/2 = 1\n",
    "#from __future__ import absolute_import, division, print_function\n",
    "\n",
    "import numpy as np\n",
    "\n",
    "def squareWave(x,alpha,beta):\n",
    "    \"A square wave as a function of position, x, which is 1 between alpha\"\n",
    "    \"and beta and zero elsewhere. The initialisation is conservative so\"\n",
    "    \"that each phi contains the correct quantity integrated over a region\"\n",
    "    \"a distance dx/2 either side of x\"\n",
    "    \n",
    "    phi = np.zeros_like(x)\n",
    "    \n",
    "    # The grid spacing (assumed uniform)\n",
    "    dx = x[1] - x[0]\n",
    "    \n",
    "    # Set phi away from the end points (assume zero at the end points)\n",
    "    for j in xrange(1,len(x)-1):\n",
    "        # edges of the grid box (using west and east notation)\n",
    "        xw = x[j] - 0.5*dx\n",
    "        xe = x[j] + 0.5*dx\n",
    "        \n",
    "        #integral quantity of phi\n",
    "        phi[j] = max((min(beta, xe) - max(alpha, xw))/dx, 0)\n",
    "\n",
    "    return phi\n",
    "\n",
    "\n",
    "def cosBell(x, alpha=0, beta=0.5):\n",
    "    \"Function defining a cosine bell as a function of position, x\"\n",
    "    \"between alpha and beta with default parameters 0, 0.5\"\n",
    "### The lambda keyword lets you define a function in one line       ###\n",
    "    width = beta - alpha\n",
    "    bell = lambda x: 0.5*(1 - np.cos(2*np.pi*(x-alpha)/width))\n",
    "### chooses bell(x) where condition is true, else chooses zeros     ###\n",
    "    return np.where((x<beta) & (x>=alpha), bell(x), 0.)\n",
    "\n",
    "\n",
    "def mixed(x, a, b, c, d):\n",
    "    \"A square wave in one location and a cosine bell in another\"\n",
    "    return 1-(1-cosBell(x, a, b))*(1-squareWave(x, c, d))\n"
   ]
  },
  {
   "cell_type": "markdown",
   "metadata": {},
   "source": [
    "Linear advection"
   ]
  },
  {
   "cell_type": "code",
   "execution_count": 7,
   "metadata": {},
   "outputs": [
    {
     "name": "stdout",
     "output_type": "stream",
     "text": [
      "FTCS l2 error norm =  0.02340576783852749\n",
      "FTCS linf error norm =  0.02570298678470856\n",
      "press return to save file and continue\n"
     ]
    },
    {
     "data": {
      "image/png": "[encoded data removed]",
      "text/plain": [
       "<Figure size 432x288 with 1 Axes>"
      ]
     },
     "metadata": {},
     "output_type": "display_data"
    }
   ],
   "source": [
    "#!/usr/bin/python3\n",
    "\n",
    "# Outer code for setting up the linear advection problem on a uniform\n",
    "# grid and calling the function to perform the linear advection and plot.\n",
    "\n",
    "### Copy out most of this code. Code commented with 3#s (like this) ###\n",
    "### is here to help you to learn python and need not be copied      ###\n",
    "\n",
    "### The command at the top means that this python function can be  ###\n",
    "### run directly from the command line (you will also need to do   ###\n",
    "### \"chmod u+x linearAdvect.py\" in unix or linux and then execute: ###\n",
    "### ./linearAdvect.py                                              ###\n",
    "\n",
    "### Note that blocks are defined by indentation in Python. You     ###\n",
    "### should never mix tabs and spaces for indentation - use 4 spaces.###\n",
    "### Setup your text editor to insert 4 spaces when you press tab    ###\n",
    "\n",
    "### If you are using Python 2.7 rather than Python 3, import various###\n",
    "### functions from Python 3 such as to use real number division     ###\n",
    "### rather than integer division. ie 3/2  = 1.5  rather than 3/2 = 1###\n",
    "#from __future__ import absolute_import, division, print_function\n",
    "\n",
    "### The matplotlib package contains plotting functions              ###\n",
    "import matplotlib.pyplot as plt\n",
    "\n",
    "# read in all the linear advection schemes, initial conditions and other\n",
    "# code associated with this application\n",
    "###from initialConditions import *\n",
    "###from advectionSchemes import *\n",
    "###from diagnostics import *\n",
    "\n",
    "### The main code is inside a function to avoid global variables    ###\n",
    "def main():\n",
    "    \"Advect the initial conditions using various advection schemes and\"\n",
    "    \"compare results\"\n",
    "\n",
    "    # Parameters\n",
    "    xmin = 0\n",
    "    xmax = 1\n",
    "    nx = 40\n",
    "    nt = 40\n",
    "    c = 0.2\n",
    "\n",
    "    # Derived parameters\n",
    "    dx = (xmax - xmin)/nx\n",
    "    \n",
    "    # spatial points for plotting and for defining initial conditions\n",
    "    x = np.arange(xmin, xmax, dx)\n",
    "\n",
    "    # Initial conditions\n",
    "    phiOld = cosBell(x, 0, 0.75)\n",
    "    # Exact solution is the initial condition shifted around the domain\n",
    "    phiAnalytic = cosBell((x - c*nt*dx)%(xmax - xmin), 0, 0.75)\n",
    "\n",
    "    # Advect the profile using finite difference for all the time steps\n",
    "    phiFTCS = FTCS(phiOld.copy(), c, nt)\n",
    "    \n",
    "    # Calculate and print out error norms\n",
    "    print(\"FTCS l2 error norm = \", l2ErrorNorm(phiFTCS, phiAnalytic))\n",
    "    print(\"FTCS linf error norm = \", lInfErrorNorm(phiFTCS, phiAnalytic))\n",
    "\n",
    "    # Plot the solutions\n",
    "    font = {'size'   : 20}\n",
    "    plt.rc('font', **font)\n",
    "    plt.figure(1)\n",
    "    plt.clf()\n",
    "    plt.ion()\n",
    "    plt.plot(x, phiOld, label='Initial', color='black')\n",
    "    plt.plot(x, phiAnalytic, label='Analytic', color='black', \n",
    "             linestyle='--', linewidth=2)\n",
    "    plt.plot(x, phiFTCS, label='FTCS', color='blue')\n",
    "    plt.axhline(0, linestyle=':', color='black')\n",
    "    plt.ylim([-0.2,1.2])\n",
    "    plt.legend(bbox_to_anchor=(1.15 , 1.1))\n",
    "    plt.xlabel('$x$')\n",
    "    input('press return to save file and continue')\n",
    "    plt.savefig('changeThisName.pdf')\n",
    "    plt.show()\n",
    "\n",
    "### Run the function main defined in this file                      ###\n",
    "main()\n"
   ]
  },
  {
   "cell_type": "code",
   "execution_count": null,
   "metadata": {},
   "outputs": [],
   "source": []
  }
 ],
 "metadata": {
  "kernelspec": {
   "display_name": "Python 3",
   "language": "python",
   "name": "python3"
  },
  "language_info": {
   "codemirror_mode": {
    "name": "ipython",
    "version": 3
   },
   "file_extension": ".py",
   "mimetype": "text/x-python",
   "name": "python",
   "nbconvert_exporter": "python",
   "pygments_lexer": "ipython3",
   "version": "3.7.0"
  }
 },
 "nbformat": 4,
 "nbformat_minor": 2
}
